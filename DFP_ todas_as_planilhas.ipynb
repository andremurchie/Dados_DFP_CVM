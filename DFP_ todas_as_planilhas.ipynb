{
 "cells": [
  {
   "cell_type": "markdown",
   "id": "e7f066c2",
   "metadata": {},
   "source": [
    "### TIPOS DE PLANILHAS\n",
    "DFP (Demonstrações Financeiras Padronizadas):\n",
    "- BPA (Balanço Patrimonial Ativo)\n",
    "    \n",
    "- BPP (Blanaço Patrimonial Passivo)\n",
    "\n",
    "- DFC (Demonstrativo Fluxo de Caixa)\n",
    "\n",
    "- DMPL** (Demonstrativo das Mutações do Patrimônio Líquido)\n",
    " Não funcionará, pois esta Planilha tem uma coluna a mais, chamada \"COLUNA_DF\"\n",
    "\n",
    "- DRA (Demonstrativo Resultado Abrangente)\n",
    "\n",
    "- DRE (Demonstração do Resultado no Exercício)\n",
    "\n",
    "- DVA (Demonstração do Valor Adicionado)\n"
   ]
  },
  {
   "cell_type": "code",
   "execution_count": null,
   "id": "69f85391",
   "metadata": {},
   "outputs": [],
   "source": [
    "import pandas as pd\n",
    "import requests\n",
    "import zipfile\n",
    "import io\n",
    "import time\n",
    "import matplotlib.pyplot as plt\n",
    "\n",
    "def download():\n",
    "    x = int(input('Ano Inicial: '))\n",
    "    y = int(input('Ano Final + 1: '))\n",
    "    \n",
    "    lista_planilha = []\n",
    "    tipo_planilha = 'a'\n",
    "    while tipo_planilha != ' ':\n",
    "        tipo_planilha = input('Planilha: BPA, BPP, DFC_MD, DFC_MI, DRA, DRE ou DVA ? ') \n",
    "        lista_planilha.append(tipo_planilha)\n",
    "    lista_planilha.remove(' ')\n",
    "    \n",
    "    lista_df = []\n",
    "\n",
    "    for planilha in lista_planilha:\n",
    "        for ano in range(x,y):\n",
    "            link = 'http://dados.cvm.gov.br/dados/CIA_ABERTA/DOC/DFP/DADOS/dfp_cia_aberta_{}.zip'.format(ano)\n",
    "            arquivo = 'dfp_cia_aberta_{}_con_{}.csv'.format(planilha, ano)\n",
    "            print('Download {} {}...'.format(planilha, ano))\n",
    "            r = requests.get(link)\n",
    "            time.sleep(0.5)\n",
    "            print('Deszipando {}...'.format(ano))\n",
    "            zf = zipfile.ZipFile(io.BytesIO(r.content))\n",
    "            time.sleep(0.5)\n",
    "            zf = zf.open(arquivo)\n",
    "            time.sleep(0.5)\n",
    "            lines = zf.readlines()\n",
    "            time.sleep(0.5)\n",
    "            lines = [i.strip().decode('ISO-8859-1') for i in lines]\n",
    "            time.sleep(0.5)\n",
    "            lines = [i.split(';') for i in lines]\n",
    "            time.sleep(0.5)\n",
    "            df = pd.DataFrame(lines[1:], columns=lines[0])\n",
    "    \n",
    "            lista_df.append(df)\n",
    "\n",
    "    print('Concatenando...')\n",
    "    arquivo = pd.DataFrame()\n",
    "    for data in lista_df:\n",
    "        arquivo = pd.concat([arquivo, data])\n",
    "\n",
    "    print('Concatenação OK')\n",
    "\n",
    "    arquivo = arquivo[arquivo['ORDEM_EXERC']=='ÚLTIMO']\n",
    "    arquivo = arquivo[['DT_FIM_EXERC','DS_CONTA','VL_CONTA','DENOM_CIA']]\n",
    "    arquivo.set_index('DT_FIM_EXERC', inplace=True)\n",
    "\n",
    "    arquivo['VL_CONTA'] = pd.to_numeric(arquivo['VL_CONTA'], errors='coerce')\n",
    "    pd.options.display.float_format = \"{:,.2f}\".format\n",
    "\n",
    "    return arquivo\n"
   ]
  },
  {
   "cell_type": "code",
   "execution_count": null,
   "id": "3630b4ab",
   "metadata": {},
   "outputs": [],
   "source": [
    "download()"
   ]
  },
  {
   "cell_type": "code",
   "execution_count": null,
   "id": "b848eef9",
   "metadata": {},
   "outputs": [],
   "source": [
    "#linha 1\n",
    "nome_da_empresa1 = ''\n",
    "variavel1 = ''\n",
    "df_1 = arquivo[(arquivo['DENOM_CIA']== '{}'.format(nome_da_empresa1)) & (arquivo['DS_CONTA']== '{}'.format(variavel1))] \n",
    "display(df_1)"
   ]
  },
  {
   "cell_type": "code",
   "execution_count": null,
   "id": "f6781977",
   "metadata": {},
   "outputs": [],
   "source": [
    "#linha 2\n",
    "nome_da_empresa2 = ''\n",
    "variavel2 = ''\n",
    "df_2 = arquivo[(arquivo['DENOM_CIA']== '{}'.format(nome_da_empresa2)) & (arquivo['DS_CONTA']== '{}'.format(variavel2))] "
   ]
  },
  {
   "cell_type": "code",
   "execution_count": null,
   "id": "0dfbda23",
   "metadata": {},
   "outputs": [],
   "source": [
    "#linha 3\n",
    "nome_da_empresa3 = ''\n",
    "variavel3 = ''\n",
    "df_3 = arquivo[(arquivo['DENOM_CIA']== '{}'.format(nome_da_empresa3)) & (arquivo['DS_CONTA']== '{}'.format(variavel3))] "
   ]
  },
  {
   "cell_type": "code",
   "execution_count": null,
   "id": "c472caf0",
   "metadata": {},
   "outputs": [],
   "source": [
    "#linha 4\n",
    "nome_da_empresa4 = \n",
    "variavel4 = \n",
    "df_4 = arquivo[(arquivo['DENOM_CIA']== '{}'.format(nome_da_empresa4)) & (arquivo['DS_CONTA']== '{}'.format(variavel4))] "
   ]
  },
  {
   "cell_type": "code",
   "execution_count": null,
   "id": "cb80f4a3",
   "metadata": {},
   "outputs": [],
   "source": [
    "#linha 5\n",
    "nome_da_empresa5 = ''\n",
    "variavel5 = ''\n",
    "df_5 = arquivo[(arquivo['DENOM_CIA']== '{}'.format(nome_da_empresa5)) & (arquivo['DS_CONTA']== '{}'.format(variavel5))] "
   ]
  },
  {
   "cell_type": "code",
   "execution_count": null,
   "id": "bc2aa499",
   "metadata": {},
   "outputs": [],
   "source": [
    "#linha 6\n",
    "nome_da_empresa6 = \n",
    "variavel6 = ''\n",
    "df_6 = arquivo[(arquivo['DENOM_CIA']== '{}'.format(nome_da_empresa6)) & (arquivo['DS_CONTA']== '{}'.format(variavel6))] "
   ]
  },
  {
   "cell_type": "code",
   "execution_count": null,
   "id": "878acebf",
   "metadata": {},
   "outputs": [],
   "source": [
    "plt.figure(figsize=(40,15))\n",
    "\n",
    "plt.plot(df_1[\"VL_CONTA\"] , label= nome_da_empresa1+': ' + variavel1)\n",
    "plt.plot(df_2[\"VL_CONTA\"] , label= nome_da_empresa2+': ' + variavel2)\n",
    "#plt.plot(df_3[\"VL_CONTA\"] , label= nome_da_empresa3+': ' + variavel3)\n",
    "#plt.plot(df_4[\"VL_CONTA\"] , label= nome_da_empresa4+': ' + variavel4)\n",
    "#plt.plot(df_5[\"VL_CONTA\"] , label= nome_da_empresa5+': ' + variavel5)\n",
    "#plt.plot(df_6[\"VL_CONTA\"] , label= nome_da_empresa6+': ' + variavel6)\n",
    "\n",
    "plt.rc('ytick',labelsize=30) \n",
    "plt.rc('xtick', labelsize=20) \n",
    "\n",
    "#.set_xticks(x[::2])\n",
    "plt.xticks(rotation='vertical')\n",
    "plt.xlabel('ANO')\n",
    "plt.ylabel('10^10 reais') \n",
    "plt.legend(prop={'size': 20})\n",
    "plt.show()\n"
   ]
  }
 ],
 "metadata": {
  "kernelspec": {
   "display_name": "Python 3",
   "language": "python",
   "name": "python3"
  },
  "language_info": {
   "codemirror_mode": {
    "name": "ipython",
    "version": 3
   },
   "file_extension": ".py",
   "mimetype": "text/x-python",
   "name": "python",
   "nbconvert_exporter": "python",
   "pygments_lexer": "ipython3",
   "version": "3.8.8"
  }
 },
 "nbformat": 4,
 "nbformat_minor": 5
}
